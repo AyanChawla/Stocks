{
  "nbformat": 4,
  "nbformat_minor": 0,
  "metadata": {
    "colab": {
      "name": "Stocks.ipynb",
      "version": "0.3.2",
      "provenance": [],
      "collapsed_sections": [],
      "toc_visible": true
    },
    "kernelspec": {
      "name": "python3",
      "display_name": "Python 3"
    }
  },
  "cells": [
    {
      "cell_type": "markdown",
      "metadata": {
        "id": "uDZ632jdjq2B",
        "colab_type": "text"
      },
      "source": [
        "#KFC vs TSLA vs MCD"
      ]
    },
    {
      "cell_type": "markdown",
      "metadata": {
        "id": "01n-eysz7KIn",
        "colab_type": "text"
      },
      "source": [
        "Today we will see in which company we should invest on basis of their prev **ONE** Year stocks record"
      ]
    },
    {
      "cell_type": "code",
      "metadata": {
        "id": "-vMDmzE0jpnZ",
        "colab_type": "code",
        "colab": {}
      },
      "source": [
        "import pandas as pd \n",
        "import numpy as np\n",
        "import seaborn as sns \n",
        "import matplotlib.pyplot as plt\n"
      ],
      "execution_count": 0,
      "outputs": []
    },
    {
      "cell_type": "code",
      "metadata": {
        "id": "8Fu8DXKy97Sw",
        "colab_type": "code",
        "colab": {}
      },
      "source": [
        "kfc=pd.read_csv(\"https://raw.githubusercontent.com/AyanChawla/Stocks/master/KFC.csv\")\n",
        "tsla=pd.read_csv(\"https://raw.githubusercontent.com/AyanChawla/Stocks/master/TSLA.csv\")\n",
        "mcd=pd.read_csv(\"https://raw.githubusercontent.com/AyanChawla/Stocks/master/MCD.csv\")"
      ],
      "execution_count": 0,
      "outputs": []
    },
    {
      "cell_type": "code",
      "metadata": {
        "id": "k9AH6M5wERw1",
        "colab_type": "code",
        "colab": {
          "base_uri": "https://localhost:8080/",
          "height": 195
        },
        "outputId": "dcd2c746-6dda-4f0a-880d-843ec0005733"
      },
      "source": [
        "kfc.head()"
      ],
      "execution_count": 40,
      "outputs": [
        {
          "output_type": "execute_result",
          "data": {
            "text/html": [
              "<div>\n",
              "<style scoped>\n",
              "    .dataframe tbody tr th:only-of-type {\n",
              "        vertical-align: middle;\n",
              "    }\n",
              "\n",
              "    .dataframe tbody tr th {\n",
              "        vertical-align: top;\n",
              "    }\n",
              "\n",
              "    .dataframe thead th {\n",
              "        text-align: right;\n",
              "    }\n",
              "</style>\n",
              "<table border=\"1\" class=\"dataframe\">\n",
              "  <thead>\n",
              "    <tr style=\"text-align: right;\">\n",
              "      <th></th>\n",
              "      <th>Date</th>\n",
              "      <th>Open</th>\n",
              "      <th>High</th>\n",
              "      <th>Low</th>\n",
              "      <th>Close</th>\n",
              "      <th>Adj Close</th>\n",
              "      <th>Volume</th>\n",
              "    </tr>\n",
              "  </thead>\n",
              "  <tbody>\n",
              "    <tr>\n",
              "      <th>1</th>\n",
              "      <td>2018-06-26</td>\n",
              "      <td>2447.0</td>\n",
              "      <td>2447.0</td>\n",
              "      <td>2447.0</td>\n",
              "      <td>2447.0</td>\n",
              "      <td>2375.114014</td>\n",
              "      <td>0.0</td>\n",
              "    </tr>\n",
              "    <tr>\n",
              "      <th>2</th>\n",
              "      <td>2018-06-27</td>\n",
              "      <td>2455.0</td>\n",
              "      <td>2480.0</td>\n",
              "      <td>2455.0</td>\n",
              "      <td>2480.0</td>\n",
              "      <td>2407.144531</td>\n",
              "      <td>900.0</td>\n",
              "    </tr>\n",
              "    <tr>\n",
              "      <th>3</th>\n",
              "      <td>2018-06-28</td>\n",
              "      <td>2480.0</td>\n",
              "      <td>2480.0</td>\n",
              "      <td>2454.0</td>\n",
              "      <td>2457.0</td>\n",
              "      <td>2384.820068</td>\n",
              "      <td>600.0</td>\n",
              "    </tr>\n",
              "    <tr>\n",
              "      <th>4</th>\n",
              "      <td>2018-06-29</td>\n",
              "      <td>2479.0</td>\n",
              "      <td>2479.0</td>\n",
              "      <td>2444.0</td>\n",
              "      <td>2450.0</td>\n",
              "      <td>2378.025879</td>\n",
              "      <td>3200.0</td>\n",
              "    </tr>\n",
              "    <tr>\n",
              "      <th>5</th>\n",
              "      <td>2018-07-02</td>\n",
              "      <td>2431.0</td>\n",
              "      <td>2431.0</td>\n",
              "      <td>2400.0</td>\n",
              "      <td>2427.0</td>\n",
              "      <td>2355.701416</td>\n",
              "      <td>6600.0</td>\n",
              "    </tr>\n",
              "  </tbody>\n",
              "</table>\n",
              "</div>"
            ],
            "text/plain": [
              "         Date    Open    High     Low   Close    Adj Close  Volume\n",
              "1  2018-06-26  2447.0  2447.0  2447.0  2447.0  2375.114014     0.0\n",
              "2  2018-06-27  2455.0  2480.0  2455.0  2480.0  2407.144531   900.0\n",
              "3  2018-06-28  2480.0  2480.0  2454.0  2457.0  2384.820068   600.0\n",
              "4  2018-06-29  2479.0  2479.0  2444.0  2450.0  2378.025879  3200.0\n",
              "5  2018-07-02  2431.0  2431.0  2400.0  2427.0  2355.701416  6600.0"
            ]
          },
          "metadata": {
            "tags": []
          },
          "execution_count": 40
        }
      ]
    },
    {
      "cell_type": "code",
      "metadata": {
        "id": "c_isS7u8ERq8",
        "colab_type": "code",
        "colab": {
          "base_uri": "https://localhost:8080/",
          "height": 284
        },
        "outputId": "3bf9c08a-b50c-4f6c-f776-b7cb5a81cec4"
      },
      "source": [
        "kfc.describe()"
      ],
      "execution_count": 44,
      "outputs": [
        {
          "output_type": "execute_result",
          "data": {
            "text/html": [
              "<div>\n",
              "<style scoped>\n",
              "    .dataframe tbody tr th:only-of-type {\n",
              "        vertical-align: middle;\n",
              "    }\n",
              "\n",
              "    .dataframe tbody tr th {\n",
              "        vertical-align: top;\n",
              "    }\n",
              "\n",
              "    .dataframe thead th {\n",
              "        text-align: right;\n",
              "    }\n",
              "</style>\n",
              "<table border=\"1\" class=\"dataframe\">\n",
              "  <thead>\n",
              "    <tr style=\"text-align: right;\">\n",
              "      <th></th>\n",
              "      <th>Open</th>\n",
              "      <th>High</th>\n",
              "      <th>Low</th>\n",
              "      <th>Close</th>\n",
              "      <th>Adj Close</th>\n",
              "      <th>Volume</th>\n",
              "    </tr>\n",
              "  </thead>\n",
              "  <tbody>\n",
              "    <tr>\n",
              "      <th>count</th>\n",
              "      <td>254.000000</td>\n",
              "      <td>254.000000</td>\n",
              "      <td>254.000000</td>\n",
              "      <td>254.000000</td>\n",
              "      <td>254.000000</td>\n",
              "      <td>254.000000</td>\n",
              "    </tr>\n",
              "    <tr>\n",
              "      <th>mean</th>\n",
              "      <td>1984.653543</td>\n",
              "      <td>1998.003937</td>\n",
              "      <td>1965.496063</td>\n",
              "      <td>1980.287402</td>\n",
              "      <td>1933.108973</td>\n",
              "      <td>3981.889764</td>\n",
              "    </tr>\n",
              "    <tr>\n",
              "      <th>std</th>\n",
              "      <td>273.881365</td>\n",
              "      <td>273.322472</td>\n",
              "      <td>273.709964</td>\n",
              "      <td>271.673965</td>\n",
              "      <td>250.465049</td>\n",
              "      <td>5259.764754</td>\n",
              "    </tr>\n",
              "    <tr>\n",
              "      <th>min</th>\n",
              "      <td>1352.000000</td>\n",
              "      <td>1398.000000</td>\n",
              "      <td>1351.000000</td>\n",
              "      <td>1386.000000</td>\n",
              "      <td>1386.000000</td>\n",
              "      <td>0.000000</td>\n",
              "    </tr>\n",
              "    <tr>\n",
              "      <th>25%</th>\n",
              "      <td>1737.250000</td>\n",
              "      <td>1741.250000</td>\n",
              "      <td>1716.000000</td>\n",
              "      <td>1733.750000</td>\n",
              "      <td>1709.000000</td>\n",
              "      <td>1125.000000</td>\n",
              "    </tr>\n",
              "    <tr>\n",
              "      <th>50%</th>\n",
              "      <td>2040.000000</td>\n",
              "      <td>2054.500000</td>\n",
              "      <td>2022.000000</td>\n",
              "      <td>2044.000000</td>\n",
              "      <td>1983.952942</td>\n",
              "      <td>2700.000000</td>\n",
              "    </tr>\n",
              "    <tr>\n",
              "      <th>75%</th>\n",
              "      <td>2206.500000</td>\n",
              "      <td>2217.750000</td>\n",
              "      <td>2184.750000</td>\n",
              "      <td>2199.750000</td>\n",
              "      <td>2135.127441</td>\n",
              "      <td>4600.000000</td>\n",
              "    </tr>\n",
              "    <tr>\n",
              "      <th>max</th>\n",
              "      <td>2518.000000</td>\n",
              "      <td>2533.000000</td>\n",
              "      <td>2466.000000</td>\n",
              "      <td>2480.000000</td>\n",
              "      <td>2407.144531</td>\n",
              "      <td>41800.000000</td>\n",
              "    </tr>\n",
              "  </tbody>\n",
              "</table>\n",
              "</div>"
            ],
            "text/plain": [
              "              Open         High  ...    Adj Close        Volume\n",
              "count   254.000000   254.000000  ...   254.000000    254.000000\n",
              "mean   1984.653543  1998.003937  ...  1933.108973   3981.889764\n",
              "std     273.881365   273.322472  ...   250.465049   5259.764754\n",
              "min    1352.000000  1398.000000  ...  1386.000000      0.000000\n",
              "25%    1737.250000  1741.250000  ...  1709.000000   1125.000000\n",
              "50%    2040.000000  2054.500000  ...  1983.952942   2700.000000\n",
              "75%    2206.500000  2217.750000  ...  2135.127441   4600.000000\n",
              "max    2518.000000  2533.000000  ...  2407.144531  41800.000000\n",
              "\n",
              "[8 rows x 6 columns]"
            ]
          },
          "metadata": {
            "tags": []
          },
          "execution_count": 44
        }
      ]
    },
    {
      "cell_type": "code",
      "metadata": {
        "id": "G827f2OVERiJ",
        "colab_type": "code",
        "colab": {
          "base_uri": "https://localhost:8080/",
          "height": 195
        },
        "outputId": "9c2b1397-fe0b-4784-e024-82bd0024d410"
      },
      "source": [
        "mcd.head()"
      ],
      "execution_count": 45,
      "outputs": [
        {
          "output_type": "execute_result",
          "data": {
            "text/html": [
              "<div>\n",
              "<style scoped>\n",
              "    .dataframe tbody tr th:only-of-type {\n",
              "        vertical-align: middle;\n",
              "    }\n",
              "\n",
              "    .dataframe tbody tr th {\n",
              "        vertical-align: top;\n",
              "    }\n",
              "\n",
              "    .dataframe thead th {\n",
              "        text-align: right;\n",
              "    }\n",
              "</style>\n",
              "<table border=\"1\" class=\"dataframe\">\n",
              "  <thead>\n",
              "    <tr style=\"text-align: right;\">\n",
              "      <th></th>\n",
              "      <th>Date</th>\n",
              "      <th>Open</th>\n",
              "      <th>High</th>\n",
              "      <th>Low</th>\n",
              "      <th>Close</th>\n",
              "      <th>Adj Close</th>\n",
              "      <th>Volume</th>\n",
              "    </tr>\n",
              "  </thead>\n",
              "  <tbody>\n",
              "    <tr>\n",
              "      <th>0</th>\n",
              "      <td>2018-06-25</td>\n",
              "      <td>60.200001</td>\n",
              "      <td>60.349998</td>\n",
              "      <td>58.750000</td>\n",
              "      <td>59.700001</td>\n",
              "      <td>57.122482</td>\n",
              "      <td>411800</td>\n",
              "    </tr>\n",
              "    <tr>\n",
              "      <th>1</th>\n",
              "      <td>2018-06-26</td>\n",
              "      <td>59.750000</td>\n",
              "      <td>60.700001</td>\n",
              "      <td>59.250000</td>\n",
              "      <td>60.299999</td>\n",
              "      <td>57.696575</td>\n",
              "      <td>272500</td>\n",
              "    </tr>\n",
              "    <tr>\n",
              "      <th>2</th>\n",
              "      <td>2018-06-27</td>\n",
              "      <td>60.099998</td>\n",
              "      <td>60.500000</td>\n",
              "      <td>58.900002</td>\n",
              "      <td>59.000000</td>\n",
              "      <td>56.452702</td>\n",
              "      <td>421100</td>\n",
              "    </tr>\n",
              "    <tr>\n",
              "      <th>3</th>\n",
              "      <td>2018-06-28</td>\n",
              "      <td>59.000000</td>\n",
              "      <td>59.400002</td>\n",
              "      <td>58.799999</td>\n",
              "      <td>59.000000</td>\n",
              "      <td>56.452702</td>\n",
              "      <td>346200</td>\n",
              "    </tr>\n",
              "    <tr>\n",
              "      <th>4</th>\n",
              "      <td>2018-06-29</td>\n",
              "      <td>59.400002</td>\n",
              "      <td>59.400002</td>\n",
              "      <td>58.250000</td>\n",
              "      <td>58.650002</td>\n",
              "      <td>56.117817</td>\n",
              "      <td>443200</td>\n",
              "    </tr>\n",
              "  </tbody>\n",
              "</table>\n",
              "</div>"
            ],
            "text/plain": [
              "         Date       Open       High        Low      Close  Adj Close  Volume\n",
              "0  2018-06-25  60.200001  60.349998  58.750000  59.700001  57.122482  411800\n",
              "1  2018-06-26  59.750000  60.700001  59.250000  60.299999  57.696575  272500\n",
              "2  2018-06-27  60.099998  60.500000  58.900002  59.000000  56.452702  421100\n",
              "3  2018-06-28  59.000000  59.400002  58.799999  59.000000  56.452702  346200\n",
              "4  2018-06-29  59.400002  59.400002  58.250000  58.650002  56.117817  443200"
            ]
          },
          "metadata": {
            "tags": []
          },
          "execution_count": 45
        }
      ]
    },
    {
      "cell_type": "code",
      "metadata": {
        "id": "eIeehP-3Epz9",
        "colab_type": "code",
        "colab": {
          "base_uri": "https://localhost:8080/",
          "height": 284
        },
        "outputId": "b81f72ea-47ff-44a6-bee3-b1127ae3e9e6"
      },
      "source": [
        "mcd.describe()"
      ],
      "execution_count": 43,
      "outputs": [
        {
          "output_type": "execute_result",
          "data": {
            "text/html": [
              "<div>\n",
              "<style scoped>\n",
              "    .dataframe tbody tr th:only-of-type {\n",
              "        vertical-align: middle;\n",
              "    }\n",
              "\n",
              "    .dataframe tbody tr th {\n",
              "        vertical-align: top;\n",
              "    }\n",
              "\n",
              "    .dataframe thead th {\n",
              "        text-align: right;\n",
              "    }\n",
              "</style>\n",
              "<table border=\"1\" class=\"dataframe\">\n",
              "  <thead>\n",
              "    <tr style=\"text-align: right;\">\n",
              "      <th></th>\n",
              "      <th>Open</th>\n",
              "      <th>High</th>\n",
              "      <th>Low</th>\n",
              "      <th>Close</th>\n",
              "      <th>Adj Close</th>\n",
              "      <th>Volume</th>\n",
              "    </tr>\n",
              "  </thead>\n",
              "  <tbody>\n",
              "    <tr>\n",
              "      <th>count</th>\n",
              "      <td>252.000000</td>\n",
              "      <td>252.000000</td>\n",
              "      <td>252.000000</td>\n",
              "      <td>252.000000</td>\n",
              "      <td>252.000000</td>\n",
              "      <td>2.520000e+02</td>\n",
              "    </tr>\n",
              "    <tr>\n",
              "      <th>mean</th>\n",
              "      <td>45.504087</td>\n",
              "      <td>46.056984</td>\n",
              "      <td>44.839369</td>\n",
              "      <td>45.431905</td>\n",
              "      <td>44.247004</td>\n",
              "      <td>4.888706e+05</td>\n",
              "    </tr>\n",
              "    <tr>\n",
              "      <th>std</th>\n",
              "      <td>9.446861</td>\n",
              "      <td>9.446218</td>\n",
              "      <td>9.365473</td>\n",
              "      <td>9.403975</td>\n",
              "      <td>8.648043</td>\n",
              "      <td>2.766826e+05</td>\n",
              "    </tr>\n",
              "    <tr>\n",
              "      <th>min</th>\n",
              "      <td>31.770000</td>\n",
              "      <td>32.349998</td>\n",
              "      <td>31.639999</td>\n",
              "      <td>31.780001</td>\n",
              "      <td>31.780001</td>\n",
              "      <td>1.460000e+05</td>\n",
              "    </tr>\n",
              "    <tr>\n",
              "      <th>25%</th>\n",
              "      <td>38.472500</td>\n",
              "      <td>38.979999</td>\n",
              "      <td>37.710001</td>\n",
              "      <td>38.365001</td>\n",
              "      <td>37.702804</td>\n",
              "      <td>3.134000e+05</td>\n",
              "    </tr>\n",
              "    <tr>\n",
              "      <th>50%</th>\n",
              "      <td>42.789999</td>\n",
              "      <td>43.449999</td>\n",
              "      <td>41.889999</td>\n",
              "      <td>42.785000</td>\n",
              "      <td>41.989542</td>\n",
              "      <td>4.288500e+05</td>\n",
              "    </tr>\n",
              "    <tr>\n",
              "      <th>75%</th>\n",
              "      <td>55.975001</td>\n",
              "      <td>56.400002</td>\n",
              "      <td>55.262500</td>\n",
              "      <td>55.640000</td>\n",
              "      <td>53.634123</td>\n",
              "      <td>5.722250e+05</td>\n",
              "    </tr>\n",
              "    <tr>\n",
              "      <th>max</th>\n",
              "      <td>65.449997</td>\n",
              "      <td>65.938004</td>\n",
              "      <td>62.974998</td>\n",
              "      <td>63.700001</td>\n",
              "      <td>60.949783</td>\n",
              "      <td>2.133000e+06</td>\n",
              "    </tr>\n",
              "  </tbody>\n",
              "</table>\n",
              "</div>"
            ],
            "text/plain": [
              "             Open        High         Low       Close   Adj Close        Volume\n",
              "count  252.000000  252.000000  252.000000  252.000000  252.000000  2.520000e+02\n",
              "mean    45.504087   46.056984   44.839369   45.431905   44.247004  4.888706e+05\n",
              "std      9.446861    9.446218    9.365473    9.403975    8.648043  2.766826e+05\n",
              "min     31.770000   32.349998   31.639999   31.780001   31.780001  1.460000e+05\n",
              "25%     38.472500   38.979999   37.710001   38.365001   37.702804  3.134000e+05\n",
              "50%     42.789999   43.449999   41.889999   42.785000   41.989542  4.288500e+05\n",
              "75%     55.975001   56.400002   55.262500   55.640000   53.634123  5.722250e+05\n",
              "max     65.449997   65.938004   62.974998   63.700001   60.949783  2.133000e+06"
            ]
          },
          "metadata": {
            "tags": []
          },
          "execution_count": 43
        }
      ]
    },
    {
      "cell_type": "code",
      "metadata": {
        "id": "y6QlbVU3-MU_",
        "colab_type": "code",
        "colab": {
          "base_uri": "https://localhost:8080/",
          "height": 195
        },
        "outputId": "78d79660-75e8-4299-9ab9-53b414c7d7bf"
      },
      "source": [
        "tsla.head()"
      ],
      "execution_count": 46,
      "outputs": [
        {
          "output_type": "execute_result",
          "data": {
            "text/html": [
              "<div>\n",
              "<style scoped>\n",
              "    .dataframe tbody tr th:only-of-type {\n",
              "        vertical-align: middle;\n",
              "    }\n",
              "\n",
              "    .dataframe tbody tr th {\n",
              "        vertical-align: top;\n",
              "    }\n",
              "\n",
              "    .dataframe thead th {\n",
              "        text-align: right;\n",
              "    }\n",
              "</style>\n",
              "<table border=\"1\" class=\"dataframe\">\n",
              "  <thead>\n",
              "    <tr style=\"text-align: right;\">\n",
              "      <th></th>\n",
              "      <th>Date</th>\n",
              "      <th>Open</th>\n",
              "      <th>High</th>\n",
              "      <th>Low</th>\n",
              "      <th>Close</th>\n",
              "      <th>Adj Close</th>\n",
              "      <th>Volume</th>\n",
              "    </tr>\n",
              "  </thead>\n",
              "  <tbody>\n",
              "    <tr>\n",
              "      <th>0</th>\n",
              "      <td>2018-06-25</td>\n",
              "      <td>330.119995</td>\n",
              "      <td>338.470001</td>\n",
              "      <td>327.500000</td>\n",
              "      <td>333.010010</td>\n",
              "      <td>333.010010</td>\n",
              "      <td>6931300</td>\n",
              "    </tr>\n",
              "    <tr>\n",
              "      <th>1</th>\n",
              "      <td>2018-06-26</td>\n",
              "      <td>336.049988</td>\n",
              "      <td>343.549988</td>\n",
              "      <td>325.799988</td>\n",
              "      <td>342.000000</td>\n",
              "      <td>342.000000</td>\n",
              "      <td>7452500</td>\n",
              "    </tr>\n",
              "    <tr>\n",
              "      <th>2</th>\n",
              "      <td>2018-06-27</td>\n",
              "      <td>345.000000</td>\n",
              "      <td>350.790009</td>\n",
              "      <td>339.500000</td>\n",
              "      <td>344.500000</td>\n",
              "      <td>344.500000</td>\n",
              "      <td>8333700</td>\n",
              "    </tr>\n",
              "    <tr>\n",
              "      <th>3</th>\n",
              "      <td>2018-06-28</td>\n",
              "      <td>348.660004</td>\n",
              "      <td>357.019989</td>\n",
              "      <td>346.109985</td>\n",
              "      <td>349.929993</td>\n",
              "      <td>349.929993</td>\n",
              "      <td>8398000</td>\n",
              "    </tr>\n",
              "    <tr>\n",
              "      <th>4</th>\n",
              "      <td>2018-06-29</td>\n",
              "      <td>353.329987</td>\n",
              "      <td>353.859985</td>\n",
              "      <td>342.410004</td>\n",
              "      <td>342.950012</td>\n",
              "      <td>342.950012</td>\n",
              "      <td>6492400</td>\n",
              "    </tr>\n",
              "  </tbody>\n",
              "</table>\n",
              "</div>"
            ],
            "text/plain": [
              "         Date        Open        High  ...       Close   Adj Close   Volume\n",
              "0  2018-06-25  330.119995  338.470001  ...  333.010010  333.010010  6931300\n",
              "1  2018-06-26  336.049988  343.549988  ...  342.000000  342.000000  7452500\n",
              "2  2018-06-27  345.000000  350.790009  ...  344.500000  344.500000  8333700\n",
              "3  2018-06-28  348.660004  357.019989  ...  349.929993  349.929993  8398000\n",
              "4  2018-06-29  353.329987  353.859985  ...  342.950012  342.950012  6492400\n",
              "\n",
              "[5 rows x 7 columns]"
            ]
          },
          "metadata": {
            "tags": []
          },
          "execution_count": 46
        }
      ]
    },
    {
      "cell_type": "code",
      "metadata": {
        "id": "66uAT1-O_Hki",
        "colab_type": "code",
        "colab": {
          "base_uri": "https://localhost:8080/",
          "height": 284
        },
        "outputId": "02abb200-be37-4042-fab9-4ec2605fc91c"
      },
      "source": [
        "tsla.describe()"
      ],
      "execution_count": 12,
      "outputs": [
        {
          "output_type": "execute_result",
          "data": {
            "text/html": [
              "<div>\n",
              "<style scoped>\n",
              "    .dataframe tbody tr th:only-of-type {\n",
              "        vertical-align: middle;\n",
              "    }\n",
              "\n",
              "    .dataframe tbody tr th {\n",
              "        vertical-align: top;\n",
              "    }\n",
              "\n",
              "    .dataframe thead th {\n",
              "        text-align: right;\n",
              "    }\n",
              "</style>\n",
              "<table border=\"1\" class=\"dataframe\">\n",
              "  <thead>\n",
              "    <tr style=\"text-align: right;\">\n",
              "      <th></th>\n",
              "      <th>Open</th>\n",
              "      <th>High</th>\n",
              "      <th>Low</th>\n",
              "      <th>Close</th>\n",
              "      <th>Adj Close</th>\n",
              "      <th>Volume</th>\n",
              "    </tr>\n",
              "  </thead>\n",
              "  <tbody>\n",
              "    <tr>\n",
              "      <th>count</th>\n",
              "      <td>252.000000</td>\n",
              "      <td>252.000000</td>\n",
              "      <td>252.000000</td>\n",
              "      <td>252.000000</td>\n",
              "      <td>252.000000</td>\n",
              "      <td>2.520000e+02</td>\n",
              "    </tr>\n",
              "    <tr>\n",
              "      <th>mean</th>\n",
              "      <td>294.240397</td>\n",
              "      <td>299.882103</td>\n",
              "      <td>287.882937</td>\n",
              "      <td>294.175833</td>\n",
              "      <td>294.175833</td>\n",
              "      <td>9.816237e+06</td>\n",
              "    </tr>\n",
              "    <tr>\n",
              "      <th>std</th>\n",
              "      <td>44.521966</td>\n",
              "      <td>45.529370</td>\n",
              "      <td>43.750001</td>\n",
              "      <td>44.846930</td>\n",
              "      <td>44.846930</td>\n",
              "      <td>5.259033e+06</td>\n",
              "    </tr>\n",
              "    <tr>\n",
              "      <th>min</th>\n",
              "      <td>181.100006</td>\n",
              "      <td>186.679993</td>\n",
              "      <td>176.990005</td>\n",
              "      <td>178.970001</td>\n",
              "      <td>178.970001</td>\n",
              "      <td>3.080700e+06</td>\n",
              "    </tr>\n",
              "    <tr>\n",
              "      <th>25%</th>\n",
              "      <td>268.720001</td>\n",
              "      <td>273.174988</td>\n",
              "      <td>263.344993</td>\n",
              "      <td>267.752495</td>\n",
              "      <td>267.752495</td>\n",
              "      <td>6.513550e+06</td>\n",
              "    </tr>\n",
              "    <tr>\n",
              "      <th>50%</th>\n",
              "      <td>301.024994</td>\n",
              "      <td>305.404999</td>\n",
              "      <td>293.789994</td>\n",
              "      <td>299.059998</td>\n",
              "      <td>299.059998</td>\n",
              "      <td>7.993550e+06</td>\n",
              "    </tr>\n",
              "    <tr>\n",
              "      <th>75%</th>\n",
              "      <td>325.512497</td>\n",
              "      <td>336.929992</td>\n",
              "      <td>319.250008</td>\n",
              "      <td>330.149994</td>\n",
              "      <td>330.149994</td>\n",
              "      <td>1.152140e+07</td>\n",
              "    </tr>\n",
              "    <tr>\n",
              "      <th>max</th>\n",
              "      <td>375.000000</td>\n",
              "      <td>387.459991</td>\n",
              "      <td>367.119995</td>\n",
              "      <td>379.570007</td>\n",
              "      <td>379.570007</td>\n",
              "      <td>3.364970e+07</td>\n",
              "    </tr>\n",
              "  </tbody>\n",
              "</table>\n",
              "</div>"
            ],
            "text/plain": [
              "             Open        High         Low       Close   Adj Close        Volume\n",
              "count  252.000000  252.000000  252.000000  252.000000  252.000000  2.520000e+02\n",
              "mean   294.240397  299.882103  287.882937  294.175833  294.175833  9.816237e+06\n",
              "std     44.521966   45.529370   43.750001   44.846930   44.846930  5.259033e+06\n",
              "min    181.100006  186.679993  176.990005  178.970001  178.970001  3.080700e+06\n",
              "25%    268.720001  273.174988  263.344993  267.752495  267.752495  6.513550e+06\n",
              "50%    301.024994  305.404999  293.789994  299.059998  299.059998  7.993550e+06\n",
              "75%    325.512497  336.929992  319.250008  330.149994  330.149994  1.152140e+07\n",
              "max    375.000000  387.459991  367.119995  379.570007  379.570007  3.364970e+07"
            ]
          },
          "metadata": {
            "tags": []
          },
          "execution_count": 12
        }
      ]
    },
    {
      "cell_type": "code",
      "metadata": {
        "id": "v0kKw2Wh_O1a",
        "colab_type": "code",
        "colab": {
          "base_uri": "https://localhost:8080/",
          "height": 67
        },
        "outputId": "a3abc4aa-4dba-4325-8bde-156dee33b460"
      },
      "source": [
        "print(kfc.shape)\n",
        "print(tsla.shape)\n",
        "print(mcd.shape)"
      ],
      "execution_count": 49,
      "outputs": [
        {
          "output_type": "stream",
          "text": [
            "(256, 7)\n",
            "(252, 7)\n",
            "(252, 7)\n"
          ],
          "name": "stdout"
        }
      ]
    },
    {
      "cell_type": "markdown",
      "metadata": {
        "id": "1XJWvXf7AzHW",
        "colab_type": "text"
      },
      "source": [
        "#About Data"
      ]
    },
    {
      "cell_type": "markdown",
      "metadata": {
        "id": "yPDBs2H2A45y",
        "colab_type": "text"
      },
      "source": [
        "**Open**- The price at which stock opened on that day\n",
        "\n",
        "**High**- Highest price of the stock on that day\n",
        "\n",
        "**Low**- Lowest price of the stock on that day\n",
        "\n",
        "**Close**- The price at which stock closed. The last price of the stock\n",
        "\n",
        "**Volume**- Actual number of shares traded of that particular Company that particular day.\n"
      ]
    },
    {
      "cell_type": "markdown",
      "metadata": {
        "id": "JsS0ZJCiC5Ph",
        "colab_type": "text"
      },
      "source": [
        "#Data Preparation"
      ]
    },
    {
      "cell_type": "markdown",
      "metadata": {
        "id": "-7qhfEmFDvpk",
        "colab_type": "text"
      },
      "source": [
        "Check KFC Stock data"
      ]
    },
    {
      "cell_type": "code",
      "metadata": {
        "id": "jIb8AFujC8E7",
        "colab_type": "code",
        "colab": {
          "base_uri": "https://localhost:8080/",
          "height": 151
        },
        "outputId": "fe109ee5-b393-4c55-81a7-e71947bf37cf"
      },
      "source": [
        "kfc.isnull().sum()"
      ],
      "execution_count": 50,
      "outputs": [
        {
          "output_type": "execute_result",
          "data": {
            "text/plain": [
              "Date         0\n",
              "Open         2\n",
              "High         2\n",
              "Low          2\n",
              "Close        2\n",
              "Adj Close    2\n",
              "Volume       2\n",
              "dtype: int64"
            ]
          },
          "metadata": {
            "tags": []
          },
          "execution_count": 50
        }
      ]
    },
    {
      "cell_type": "markdown",
      "metadata": {
        "id": "fVEU_sNlDqo0",
        "colab_type": "text"
      },
      "source": [
        "Lets Delete the null values"
      ]
    },
    {
      "cell_type": "code",
      "metadata": {
        "id": "J_y9KhfEDHUJ",
        "colab_type": "code",
        "colab": {}
      },
      "source": [
        "kfc.dropna(inplace=True)"
      ],
      "execution_count": 0,
      "outputs": []
    },
    {
      "cell_type": "code",
      "metadata": {
        "id": "aEm8TnhqDHQm",
        "colab_type": "code",
        "colab": {
          "base_uri": "https://localhost:8080/",
          "height": 34
        },
        "outputId": "5f563424-344d-46cd-a8ce-f21d7a981ca7"
      },
      "source": [
        "kfc.shape"
      ],
      "execution_count": 52,
      "outputs": [
        {
          "output_type": "execute_result",
          "data": {
            "text/plain": [
              "(254, 7)"
            ]
          },
          "metadata": {
            "tags": []
          },
          "execution_count": 52
        }
      ]
    },
    {
      "cell_type": "markdown",
      "metadata": {
        "id": "84h98lwQD1sY",
        "colab_type": "text"
      },
      "source": [
        "Check TSLA Stock data"
      ]
    },
    {
      "cell_type": "code",
      "metadata": {
        "id": "DAO_kBQ1DHJh",
        "colab_type": "code",
        "colab": {
          "base_uri": "https://localhost:8080/",
          "height": 151
        },
        "outputId": "0297f78b-aabf-47a9-9904-267156983a0c"
      },
      "source": [
        "tsla.isnull().sum()"
      ],
      "execution_count": 38,
      "outputs": [
        {
          "output_type": "execute_result",
          "data": {
            "text/plain": [
              "Date         0\n",
              "Open         0\n",
              "High         0\n",
              "Low          0\n",
              "Close        0\n",
              "Adj Close    0\n",
              "Volume       0\n",
              "dtype: int64"
            ]
          },
          "metadata": {
            "tags": []
          },
          "execution_count": 38
        }
      ]
    },
    {
      "cell_type": "markdown",
      "metadata": {
        "id": "ambbHkwbD99U",
        "colab_type": "text"
      },
      "source": [
        "No Null Values"
      ]
    },
    {
      "cell_type": "markdown",
      "metadata": {
        "id": "BBtDFKpBEAw5",
        "colab_type": "text"
      },
      "source": [
        "Check TSLA Stock data"
      ]
    },
    {
      "cell_type": "code",
      "metadata": {
        "id": "CpDzwWNuEJ7y",
        "colab_type": "code",
        "colab": {
          "base_uri": "https://localhost:8080/",
          "height": 151
        },
        "outputId": "7d601656-06ee-43ac-830a-55b478f2213e"
      },
      "source": [
        "mcd.isnull().sum()"
      ],
      "execution_count": 39,
      "outputs": [
        {
          "output_type": "execute_result",
          "data": {
            "text/plain": [
              "Date         0\n",
              "Open         0\n",
              "High         0\n",
              "Low          0\n",
              "Close        0\n",
              "Adj Close    0\n",
              "Volume       0\n",
              "dtype: int64"
            ]
          },
          "metadata": {
            "tags": []
          },
          "execution_count": 39
        }
      ]
    },
    {
      "cell_type": "markdown",
      "metadata": {
        "id": "A68sxBTTEMCh",
        "colab_type": "text"
      },
      "source": [
        "No Null Values"
      ]
    },
    {
      "cell_type": "markdown",
      "metadata": {
        "id": "IP60K4n8E-o6",
        "colab_type": "text"
      },
      "source": [
        "Data Is all set to be analysed"
      ]
    },
    {
      "cell_type": "markdown",
      "metadata": {
        "id": "n7zuybdHB7_O",
        "colab_type": "text"
      },
      "source": [
        "#Univariate Analysis"
      ]
    },
    {
      "cell_type": "markdown",
      "metadata": {
        "id": "Mmj-xwp1CHBA",
        "colab_type": "text"
      },
      "source": [
        "In this data there is not much sense to do Univariate analysis. If we calculate that how much time a particular opening stock price appears in a Year , that doesnt make any sense. Same is the case with other variables. "
      ]
    },
    {
      "cell_type": "markdown",
      "metadata": {
        "id": "NDo53mcKCNpE",
        "colab_type": "text"
      },
      "source": [
        "#Bivariate Analysis"
      ]
    },
    {
      "cell_type": "markdown",
      "metadata": {
        "id": "jvKSZSLwCsEz",
        "colab_type": "text"
      },
      "source": [
        "###Open"
      ]
    },
    {
      "cell_type": "code",
      "metadata": {
        "id": "VALPuitaCNQN",
        "colab_type": "code",
        "colab": {}
      },
      "source": [
        "kfc['Date'] = pd.to_datetime(kfc.Date,format='%Y-%m-%d')\n",
        "kfc.index = kfc['Date']\n"
      ],
      "execution_count": 0,
      "outputs": []
    },
    {
      "cell_type": "code",
      "metadata": {
        "id": "nqLIJ6dSUgkl",
        "colab_type": "code",
        "colab": {}
      },
      "source": [
        "tsla['Date'] = pd.to_datetime(tsla.Date,format='%Y-%m-%d')\n",
        "tsla.index = tsla['Date']\n",
        "\n",
        "mcd['Date'] = pd.to_datetime(mcd.Date,format='%Y-%m-%d')\n",
        "mcd.index = mcd['Date']"
      ],
      "execution_count": 0,
      "outputs": []
    },
    {
      "cell_type": "code",
      "metadata": {
        "id": "BkMgyG3zUCqE",
        "colab_type": "code",
        "colab": {}
      },
      "source": [
        "kfc_open=pd.DataFrame(kfc['Open'])\n",
        "tsla_open=pd.DataFrame(tsla['Open'])\n",
        "mcd_open=pd.DataFrame(mcd['Open'])"
      ],
      "execution_count": 0,
      "outputs": []
    },
    {
      "cell_type": "code",
      "metadata": {
        "id": "MpUsEKwvUK4P",
        "colab_type": "code",
        "colab": {}
      },
      "source": [
        "df=pd.concat([kfc_open,tsla_open,mcd_open],axis=1,join_axes=[kfc_open.index])"
      ],
      "execution_count": 0,
      "outputs": []
    },
    {
      "cell_type": "code",
      "metadata": {
        "id": "rI0g4a16UXzR",
        "colab_type": "code",
        "colab": {
          "base_uri": "https://localhost:8080/",
          "height": 536
        },
        "outputId": "373f6ac0-1fa9-48f1-9f11-193ca4caae30"
      },
      "source": [
        "plt.figure(figsize=(16,8))\n",
        "plt.plot(df['Open'])"
      ],
      "execution_count": 95,
      "outputs": [
        {
          "output_type": "execute_result",
          "data": {
            "text/plain": [
              "[<matplotlib.lines.Line2D at 0x7f4b76cacef0>,\n",
              " <matplotlib.lines.Line2D at 0x7f4b76c85668>,\n",
              " <matplotlib.lines.Line2D at 0x7f4b76c857f0>]"
            ]
          },
          "metadata": {
            "tags": []
          },
          "execution_count": 95
        },
        {
          "output_type": "display_data",
          "data": {
            "image/png": "[encoded data removed]",
            "text/plain": [
              "<Figure size 1152x576 with 1 Axes>"
            ]
          },
          "metadata": {
            "tags": []
          }
        }
      ]
    },
    {
      "cell_type": "markdown",
      "metadata": {
        "id": "ywL8ja8yY_jc",
        "colab_type": "text"
      },
      "source": [
        "###Close"
      ]
    },
    {
      "cell_type": "code",
      "metadata": {
        "id": "JNgMOFDnWsau",
        "colab_type": "code",
        "colab": {}
      },
      "source": [
        "kfc_close=pd.DataFrame(kfc['Close'])\n",
        "tsla_close=pd.DataFrame(tsla['Close'])\n",
        "mcd_close=pd.DataFrame(mcd['Close'])\n",
        "df1=pd.concat([kfc_close,tsla_close,mcd_close],axis=1,join_axes=[kfc_close.index])"
      ],
      "execution_count": 0,
      "outputs": []
    },
    {
      "cell_type": "code",
      "metadata": {
        "id": "D4O7I1wcZNVG",
        "colab_type": "code",
        "colab": {
          "base_uri": "https://localhost:8080/",
          "height": 536
        },
        "outputId": "c7f25a34-df44-4a57-e923-fb9516f1d86c"
      },
      "source": [
        "plt.figure(figsize=(16,8))\n",
        "plt.plot(df1['Close'])"
      ],
      "execution_count": 98,
      "outputs": [
        {
          "output_type": "execute_result",
          "data": {
            "text/plain": [
              "[<matplotlib.lines.Line2D at 0x7f4b76c3c278>,\n",
              " <matplotlib.lines.Line2D at 0x7f4b76bdeda0>,\n",
              " <matplotlib.lines.Line2D at 0x7f4b76bdef28>]"
            ]
          },
          "metadata": {
            "tags": []
          },
          "execution_count": 98
        },
        {
          "output_type": "display_data",
          "data": {
            "image/png": "[encoded data removed]",
            "text/plain": [
              "<Figure size 1152x576 with 1 Axes>"
            ]
          },
          "metadata": {
            "tags": []
          }
        }
      ]
    },
    {
      "cell_type": "code",
      "metadata": {
        "id": "IlQ1_EjCZg_0",
        "colab_type": "code",
        "colab": {}
      },
      "source": [
        "kfc_high=pd.DataFrame(kfc['High'])\n",
        "tsla_high=pd.DataFrame(tsla['High'])\n",
        "mcd_high=pd.DataFrame(mcd['High'])\n",
        "df2=pd.concat([kfc_high,tsla_high,mcd_high],axis=1,join_axes=[kfc_high.index])"
      ],
      "execution_count": 0,
      "outputs": []
    },
    {
      "cell_type": "code",
      "metadata": {
        "id": "vlIGa2uWaBNE",
        "colab_type": "code",
        "colab": {
          "base_uri": "https://localhost:8080/",
          "height": 536
        },
        "outputId": "cbfeddfb-eda6-4c22-89ba-366bfbd51b62"
      },
      "source": [
        "plt.figure(figsize=(16,8))\n",
        "plt.plot(df2['High'])"
      ],
      "execution_count": 100,
      "outputs": [
        {
          "output_type": "execute_result",
          "data": {
            "text/plain": [
              "[<matplotlib.lines.Line2D at 0x7f4b76b99358>,\n",
              " <matplotlib.lines.Line2D at 0x7f4b76bc7630>,\n",
              " <matplotlib.lines.Line2D at 0x7f4b76bc77b8>]"
            ]
          },
          "metadata": {
            "tags": []
          },
          "execution_count": 100
        },
        {
          "output_type": "display_data",
          "data": {
            "image/png": "[encoded data removed]",
            "text/plain": [
              "<Figure size 1152x576 with 1 Axes>"
            ]
          },
          "metadata": {
            "tags": []
          }
        }
      ]
    },
    {
      "cell_type": "markdown",
      "metadata": {
        "id": "fyk4cRn4ap90",
        "colab_type": "text"
      },
      "source": [
        "These Graphs Shows that for risk free trading one should invest in **MCD**"
      ]
    },
    {
      "cell_type": "code",
      "metadata": {
        "id": "eEgBQDd6aN0g",
        "colab_type": "code",
        "colab": {}
      },
      "source": [
        ""
      ],
      "execution_count": 0,
      "outputs": []
    }
  ]
}